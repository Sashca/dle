{
 "cells": [
  {
   "cell_type": "code",
   "execution_count": 1,
   "metadata": {},
   "outputs": [
    {
     "name": "stderr",
     "output_type": "stream",
     "text": [
      "Using TensorFlow backend.\n"
     ]
    }
   ],
   "source": [
    "import keras\n",
    "import numpy\n",
    "from keras.datasets import boston_housing\n",
    "from keras import layers"
   ]
  },
  {
   "cell_type": "code",
   "execution_count": 2,
   "metadata": {},
   "outputs": [],
   "source": [
    "(x_train, y_train), (x_test, y_test) = boston_housing.load_data ()"
   ]
  },
  {
   "cell_type": "code",
   "execution_count": 3,
   "metadata": {},
   "outputs": [],
   "source": [
    "# Нормализация\n",
    "mean_train = x_train.mean (axis = 0)\n",
    "std_train = x_train.std (axis = 0)\n",
    "x_train -= mean_train\n",
    "x_train /= std_train\n",
    "x_test -= mean_train\n",
    "x_test /= std_train"
   ]
  },
  {
   "cell_type": "code",
   "execution_count": 4,
   "metadata": {},
   "outputs": [],
   "source": [
    "class Net (keras.Model):\n",
    "    def __init__(self):\n",
    "        super (Net, self).__init__()\n",
    "        self.dense1 = layers.Dense (32, activation = 'relu', input_shape=(13,))\n",
    "        self.dense2 = layers.Dense (32, activation = 'relu')\n",
    "        self.dense3 = layers.Dense (1)\n",
    "    \n",
    "    def call (self, inputs):\n",
    "        x = self.dense1 (inputs)\n",
    "        x = self.dense2 (x)\n",
    "        return self.dense3 (x)"
   ]
  },
  {
   "cell_type": "code",
   "execution_count": 5,
   "metadata": {},
   "outputs": [
    {
     "name": "stderr",
     "output_type": "stream",
     "text": [
      "WARNING: Logging before flag parsing goes to stderr.\n",
      "W0630 13:02:15.322049 4545050048 deprecation_wrapper.py:119] From /anaconda3/lib/python3.7/site-packages/keras/backend/tensorflow_backend.py:74: The name tf.get_default_graph is deprecated. Please use tf.compat.v1.get_default_graph instead.\n",
      "\n",
      "W0630 13:02:15.331598 4545050048 deprecation_wrapper.py:119] From /anaconda3/lib/python3.7/site-packages/keras/optimizers.py:790: The name tf.train.Optimizer is deprecated. Please use tf.compat.v1.train.Optimizer instead.\n",
      "\n",
      "W0630 13:02:15.342061 4545050048 deprecation_wrapper.py:119] From /anaconda3/lib/python3.7/site-packages/keras/backend/tensorflow_backend.py:517: The name tf.placeholder is deprecated. Please use tf.compat.v1.placeholder instead.\n",
      "\n",
      "W0630 13:02:15.343182 4545050048 deprecation_wrapper.py:119] From /anaconda3/lib/python3.7/site-packages/keras/backend/tensorflow_backend.py:4138: The name tf.random_uniform is deprecated. Please use tf.random.uniform instead.\n",
      "\n",
      "W0630 13:02:15.431194 4545050048 deprecation_wrapper.py:119] From /anaconda3/lib/python3.7/site-packages/keras/backend/tensorflow_backend.py:986: The name tf.assign_add is deprecated. Please use tf.compat.v1.assign_add instead.\n",
      "\n",
      "W0630 13:02:15.484455 4545050048 deprecation_wrapper.py:119] From /anaconda3/lib/python3.7/site-packages/keras/backend/tensorflow_backend.py:973: The name tf.assign is deprecated. Please use tf.compat.v1.assign instead.\n",
      "\n"
     ]
    },
    {
     "name": "stdout",
     "output_type": "stream",
     "text": [
      "Train on 404 samples, validate on 102 samples\n",
      "Epoch 1/50\n",
      "404/404 [==============================] - 0s 398us/step - loss: 569.0923 - mean_absolute_error: 21.9793 - val_loss: 581.8299 - val_mean_absolute_error: 22.3130\n",
      "Epoch 2/50\n",
      "404/404 [==============================] - 0s 27us/step - loss: 543.2663 - mean_absolute_error: 21.3976 - val_loss: 552.9658 - val_mean_absolute_error: 21.6742\n",
      "Epoch 3/50\n",
      "404/404 [==============================] - 0s 22us/step - loss: 512.6672 - mean_absolute_error: 20.7031 - val_loss: 516.0630 - val_mean_absolute_error: 20.8204\n",
      "Epoch 4/50\n",
      "404/404 [==============================] - 0s 22us/step - loss: 472.1537 - mean_absolute_error: 19.7249 - val_loss: 466.5329 - val_mean_absolute_error: 19.6220\n",
      "Epoch 5/50\n",
      "404/404 [==============================] - 0s 22us/step - loss: 418.3427 - mean_absolute_error: 18.3769 - val_loss: 402.2932 - val_mean_absolute_error: 17.9665\n",
      "Epoch 6/50\n",
      "404/404 [==============================] - 0s 22us/step - loss: 350.1646 - mean_absolute_error: 16.5885 - val_loss: 323.7797 - val_mean_absolute_error: 15.8074\n",
      "Epoch 7/50\n",
      "404/404 [==============================] - 0s 22us/step - loss: 273.3169 - mean_absolute_error: 14.2990 - val_loss: 240.3820 - val_mean_absolute_error: 13.2773\n",
      "Epoch 8/50\n",
      "404/404 [==============================] - 0s 20us/step - loss: 197.7756 - mean_absolute_error: 11.6617 - val_loss: 168.1964 - val_mean_absolute_error: 11.0100\n",
      "Epoch 9/50\n",
      "404/404 [==============================] - 0s 20us/step - loss: 137.5457 - mean_absolute_error: 9.3296 - val_loss: 120.8604 - val_mean_absolute_error: 9.1106\n",
      "Epoch 10/50\n",
      "404/404 [==============================] - 0s 19us/step - loss: 102.5957 - mean_absolute_error: 7.8796 - val_loss: 92.9763 - val_mean_absolute_error: 7.8512\n",
      "Epoch 11/50\n",
      "404/404 [==============================] - 0s 19us/step - loss: 81.1236 - mean_absolute_error: 7.0417 - val_loss: 75.7560 - val_mean_absolute_error: 7.0024\n",
      "Epoch 12/50\n",
      "404/404 [==============================] - 0s 19us/step - loss: 65.5044 - mean_absolute_error: 6.3097 - val_loss: 62.6276 - val_mean_absolute_error: 6.2669\n",
      "Epoch 13/50\n",
      "404/404 [==============================] - 0s 19us/step - loss: 53.5112 - mean_absolute_error: 5.6574 - val_loss: 52.5034 - val_mean_absolute_error: 5.7481\n",
      "Epoch 14/50\n",
      "404/404 [==============================] - 0s 19us/step - loss: 44.1901 - mean_absolute_error: 5.0858 - val_loss: 45.3896 - val_mean_absolute_error: 5.4182\n",
      "Epoch 15/50\n",
      "404/404 [==============================] - 0s 19us/step - loss: 37.3495 - mean_absolute_error: 4.6205 - val_loss: 40.3832 - val_mean_absolute_error: 5.1192\n",
      "Epoch 16/50\n",
      "404/404 [==============================] - 0s 18us/step - loss: 32.4005 - mean_absolute_error: 4.2709 - val_loss: 36.9280 - val_mean_absolute_error: 4.8625\n",
      "Epoch 17/50\n",
      "404/404 [==============================] - 0s 19us/step - loss: 29.0100 - mean_absolute_error: 4.0002 - val_loss: 34.6181 - val_mean_absolute_error: 4.6818\n",
      "Epoch 18/50\n",
      "404/404 [==============================] - 0s 18us/step - loss: 26.5023 - mean_absolute_error: 3.8130 - val_loss: 33.0518 - val_mean_absolute_error: 4.5433\n",
      "Epoch 19/50\n",
      "404/404 [==============================] - 0s 19us/step - loss: 24.8298 - mean_absolute_error: 3.6722 - val_loss: 31.6651 - val_mean_absolute_error: 4.4232\n",
      "Epoch 20/50\n",
      "404/404 [==============================] - 0s 19us/step - loss: 23.6387 - mean_absolute_error: 3.5707 - val_loss: 30.7930 - val_mean_absolute_error: 4.3403\n",
      "Epoch 21/50\n",
      "404/404 [==============================] - 0s 19us/step - loss: 22.5915 - mean_absolute_error: 3.4789 - val_loss: 29.9799 - val_mean_absolute_error: 4.2771\n",
      "Epoch 22/50\n",
      "404/404 [==============================] - 0s 19us/step - loss: 21.7808 - mean_absolute_error: 3.4024 - val_loss: 29.2610 - val_mean_absolute_error: 4.2191\n",
      "Epoch 23/50\n",
      "404/404 [==============================] - 0s 19us/step - loss: 21.0098 - mean_absolute_error: 3.3380 - val_loss: 28.8120 - val_mean_absolute_error: 4.1566\n",
      "Epoch 24/50\n",
      "404/404 [==============================] - 0s 19us/step - loss: 20.3333 - mean_absolute_error: 3.2654 - val_loss: 28.0455 - val_mean_absolute_error: 4.0855\n",
      "Epoch 25/50\n",
      "404/404 [==============================] - 0s 19us/step - loss: 19.7074 - mean_absolute_error: 3.2014 - val_loss: 27.6596 - val_mean_absolute_error: 4.0411\n",
      "Epoch 26/50\n",
      "404/404 [==============================] - 0s 19us/step - loss: 19.1511 - mean_absolute_error: 3.1585 - val_loss: 27.2197 - val_mean_absolute_error: 3.9977\n",
      "Epoch 27/50\n",
      "404/404 [==============================] - 0s 19us/step - loss: 18.6371 - mean_absolute_error: 3.1228 - val_loss: 26.9047 - val_mean_absolute_error: 3.9555\n",
      "Epoch 28/50\n",
      "404/404 [==============================] - 0s 19us/step - loss: 18.1083 - mean_absolute_error: 3.0790 - val_loss: 27.2603 - val_mean_absolute_error: 3.9489\n",
      "Epoch 29/50\n",
      "404/404 [==============================] - 0s 18us/step - loss: 17.6604 - mean_absolute_error: 3.0306 - val_loss: 26.9483 - val_mean_absolute_error: 3.9090\n",
      "Epoch 30/50\n",
      "404/404 [==============================] - 0s 20us/step - loss: 17.1859 - mean_absolute_error: 2.9792 - val_loss: 26.3705 - val_mean_absolute_error: 3.8529\n",
      "Epoch 31/50\n",
      "404/404 [==============================] - 0s 18us/step - loss: 16.7519 - mean_absolute_error: 2.9357 - val_loss: 26.2816 - val_mean_absolute_error: 3.8328\n",
      "Epoch 32/50\n",
      "404/404 [==============================] - 0s 19us/step - loss: 16.3002 - mean_absolute_error: 2.9000 - val_loss: 26.2782 - val_mean_absolute_error: 3.8172\n",
      "Epoch 33/50\n",
      "404/404 [==============================] - 0s 18us/step - loss: 15.9039 - mean_absolute_error: 2.8668 - val_loss: 26.2627 - val_mean_absolute_error: 3.8022\n",
      "Epoch 34/50\n",
      "404/404 [==============================] - 0s 20us/step - loss: 15.5704 - mean_absolute_error: 2.8272 - val_loss: 25.8055 - val_mean_absolute_error: 3.7568\n",
      "Epoch 35/50\n",
      "404/404 [==============================] - 0s 19us/step - loss: 15.2040 - mean_absolute_error: 2.7865 - val_loss: 25.9741 - val_mean_absolute_error: 3.7531\n",
      "Epoch 36/50\n",
      "404/404 [==============================] - 0s 20us/step - loss: 14.8775 - mean_absolute_error: 2.7603 - val_loss: 25.5300 - val_mean_absolute_error: 3.7119\n",
      "Epoch 37/50\n",
      "404/404 [==============================] - 0s 18us/step - loss: 14.5135 - mean_absolute_error: 2.7129 - val_loss: 25.4071 - val_mean_absolute_error: 3.6785\n",
      "Epoch 38/50\n",
      "404/404 [==============================] - 0s 20us/step - loss: 14.2059 - mean_absolute_error: 2.6771 - val_loss: 25.2628 - val_mean_absolute_error: 3.6541\n",
      "Epoch 39/50\n",
      "404/404 [==============================] - 0s 19us/step - loss: 13.9148 - mean_absolute_error: 2.6536 - val_loss: 25.4308 - val_mean_absolute_error: 3.6477\n",
      "Epoch 40/50\n",
      "404/404 [==============================] - 0s 19us/step - loss: 13.6574 - mean_absolute_error: 2.6274 - val_loss: 25.2606 - val_mean_absolute_error: 3.6159\n",
      "Epoch 41/50\n",
      "404/404 [==============================] - 0s 20us/step - loss: 13.4016 - mean_absolute_error: 2.5961 - val_loss: 25.1523 - val_mean_absolute_error: 3.5926\n",
      "Epoch 42/50\n",
      "404/404 [==============================] - 0s 20us/step - loss: 13.1416 - mean_absolute_error: 2.5727 - val_loss: 24.9839 - val_mean_absolute_error: 3.5649\n",
      "Epoch 43/50\n",
      "404/404 [==============================] - 0s 20us/step - loss: 13.0166 - mean_absolute_error: 2.5608 - val_loss: 25.1941 - val_mean_absolute_error: 3.5589\n",
      "Epoch 44/50\n",
      "404/404 [==============================] - 0s 21us/step - loss: 12.7413 - mean_absolute_error: 2.5290 - val_loss: 24.7443 - val_mean_absolute_error: 3.5355\n",
      "Epoch 45/50\n",
      "404/404 [==============================] - 0s 19us/step - loss: 12.5505 - mean_absolute_error: 2.5138 - val_loss: 24.7012 - val_mean_absolute_error: 3.5185\n",
      "Epoch 46/50\n",
      "404/404 [==============================] - 0s 20us/step - loss: 12.3625 - mean_absolute_error: 2.4988 - val_loss: 24.7517 - val_mean_absolute_error: 3.4939\n",
      "Epoch 47/50\n",
      "404/404 [==============================] - 0s 19us/step - loss: 12.1946 - mean_absolute_error: 2.4847 - val_loss: 24.5251 - val_mean_absolute_error: 3.4645\n",
      "Epoch 48/50\n",
      "404/404 [==============================] - 0s 20us/step - loss: 12.0510 - mean_absolute_error: 2.4712 - val_loss: 24.5096 - val_mean_absolute_error: 3.4590\n",
      "Epoch 49/50\n"
     ]
    },
    {
     "name": "stdout",
     "output_type": "stream",
     "text": [
      "404/404 [==============================] - 0s 20us/step - loss: 11.8796 - mean_absolute_error: 2.4605 - val_loss: 24.3212 - val_mean_absolute_error: 3.4360\n",
      "Epoch 50/50\n",
      "404/404 [==============================] - 0s 21us/step - loss: 11.7892 - mean_absolute_error: 2.4460 - val_loss: 24.2662 - val_mean_absolute_error: 3.4309\n"
     ]
    },
    {
     "data": {
      "text/plain": [
       "<keras.callbacks.History at 0xb30a60be0>"
      ]
     },
     "execution_count": 5,
     "metadata": {},
     "output_type": "execute_result"
    }
   ],
   "source": [
    "model = Net ()\n",
    "model.compile (loss = 'mean_squared_error', optimizer = 'adam', metrics=['mae'])\n",
    "model.fit (x_train, y_train, epochs = 50, batch_size = 32, verbose=1, validation_data=(x_test, y_test))"
   ]
  },
  {
   "cell_type": "code",
   "execution_count": 6,
   "metadata": {},
   "outputs": [],
   "source": [
    "# K-fold \n",
    "\n",
    "samples = len (x_train) // 10\n",
    "tests = []\n",
    "\n",
    "for i in range (10):\n",
    "    x = x_train[i * samples: (i + 1) * samples]\n",
    "    y = y_train[i * samples: (i + 1) * samples]\n",
    "    part_x = numpy.concatenate([x_train[:i * samples], x_train[(i+1) * samples:]], axis=0)\n",
    "    part_y = numpy.concatenate([y_train[:i * samples], y_train[(i+1)*samples:]], axis=0)\n",
    "\n",
    "    model_test = Net ()\n",
    "    model_test.compile (loss = 'mean_squared_error', optimizer = 'adam', metrics=['mae'])\n",
    "    model_test.fit(part_x, part_y, epochs=50, batch_size=1, verbose=0)\n",
    "    mse, mae = model_test.evaluate(x, y, verbose=0)\n",
    "    tests.append(mae)"
   ]
  },
  {
   "cell_type": "code",
   "execution_count": 7,
   "metadata": {},
   "outputs": [
    {
     "name": "stdout",
     "output_type": "stream",
     "text": [
      "[1.8242007493972778, 2.3707948207855223, 2.6781468391418457, 2.494589424133301, 1.8482300758361816, 2.9896897792816164, 2.0936456680297852, 2.8142237186431887, 2.801961803436279, 2.086767053604126]\n"
     ]
    },
    {
     "data": {
      "text/plain": [
       "2.4002249932289126"
      ]
     },
     "execution_count": 7,
     "metadata": {},
     "output_type": "execute_result"
    }
   ],
   "source": [
    "print (tests)\n",
    "numpy.mean(tests)"
   ]
  },
  {
   "cell_type": "code",
   "execution_count": null,
   "metadata": {},
   "outputs": [],
   "source": []
  }
 ],
 "metadata": {
  "kernelspec": {
   "display_name": "Python 3",
   "language": "python",
   "name": "python3"
  },
  "language_info": {
   "codemirror_mode": {
    "name": "ipython",
    "version": 3
   },
   "file_extension": ".py",
   "mimetype": "text/x-python",
   "name": "python",
   "nbconvert_exporter": "python",
   "pygments_lexer": "ipython3",
   "version": "3.7.3"
  }
 },
 "nbformat": 4,
 "nbformat_minor": 2
}
